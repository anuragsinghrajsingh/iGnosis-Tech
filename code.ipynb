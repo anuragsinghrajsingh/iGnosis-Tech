{
 "cells": [
  {
   "cell_type": "code",
   "execution_count": 2,
   "metadata": {},
   "outputs": [],
   "source": [
    "# Import necessary libraries\n",
    "\n",
    "import pandas as pd  # Pandas helps in data manipulation and analysis\n",
    "import numpy as np   # NumPy is used for numerical calculations\n",
    "import matplotlib.pyplot as plt  # Matplotlib is used for creating plots and graphs\n",
    "import seaborn as sns  # Seaborn is used for making nicer, more attractive plots\n"
   ]
  },
  {
   "cell_type": "code",
   "execution_count": 139,
   "metadata": {},
   "outputs": [
    {
     "data": {
      "text/html": [
       "<div>\n",
       "<style scoped>\n",
       "    .dataframe tbody tr th:only-of-type {\n",
       "        vertical-align: middle;\n",
       "    }\n",
       "\n",
       "    .dataframe tbody tr th {\n",
       "        vertical-align: top;\n",
       "    }\n",
       "\n",
       "    .dataframe thead th {\n",
       "        text-align: right;\n",
       "    }\n",
       "</style>\n",
       "<table border=\"1\" class=\"dataframe\">\n",
       "  <thead>\n",
       "    <tr style=\"text-align: right;\">\n",
       "      <th></th>\n",
       "      <th>DATE</th>\n",
       "      <th>STORE_NBR</th>\n",
       "      <th>LYLTY_CARD_NBR</th>\n",
       "      <th>TXN_ID</th>\n",
       "      <th>PROD_NBR</th>\n",
       "      <th>PROD_NAME</th>\n",
       "      <th>PROD_QTY</th>\n",
       "      <th>TOT_SALES</th>\n",
       "    </tr>\n",
       "  </thead>\n",
       "  <tbody>\n",
       "    <tr>\n",
       "      <th>0</th>\n",
       "      <td>43390</td>\n",
       "      <td>1</td>\n",
       "      <td>1000</td>\n",
       "      <td>1</td>\n",
       "      <td>5</td>\n",
       "      <td>Natural Chip        Compny SeaSalt175g</td>\n",
       "      <td>2</td>\n",
       "      <td>6.0</td>\n",
       "    </tr>\n",
       "    <tr>\n",
       "      <th>1</th>\n",
       "      <td>43599</td>\n",
       "      <td>1</td>\n",
       "      <td>1307</td>\n",
       "      <td>348</td>\n",
       "      <td>66</td>\n",
       "      <td>CCs Nacho Cheese    175g</td>\n",
       "      <td>3</td>\n",
       "      <td>6.3</td>\n",
       "    </tr>\n",
       "    <tr>\n",
       "      <th>2</th>\n",
       "      <td>43605</td>\n",
       "      <td>1</td>\n",
       "      <td>1343</td>\n",
       "      <td>383</td>\n",
       "      <td>61</td>\n",
       "      <td>Smiths Crinkle Cut  Chips Chicken 170g</td>\n",
       "      <td>2</td>\n",
       "      <td>2.9</td>\n",
       "    </tr>\n",
       "    <tr>\n",
       "      <th>3</th>\n",
       "      <td>43329</td>\n",
       "      <td>2</td>\n",
       "      <td>2373</td>\n",
       "      <td>974</td>\n",
       "      <td>69</td>\n",
       "      <td>Smiths Chip Thinly  S/Cream&amp;Onion 175g</td>\n",
       "      <td>5</td>\n",
       "      <td>15.0</td>\n",
       "    </tr>\n",
       "    <tr>\n",
       "      <th>4</th>\n",
       "      <td>43330</td>\n",
       "      <td>2</td>\n",
       "      <td>2426</td>\n",
       "      <td>1038</td>\n",
       "      <td>108</td>\n",
       "      <td>Kettle Tortilla ChpsHny&amp;Jlpno Chili 150g</td>\n",
       "      <td>3</td>\n",
       "      <td>13.8</td>\n",
       "    </tr>\n",
       "  </tbody>\n",
       "</table>\n",
       "</div>"
      ],
      "text/plain": [
       "    DATE  STORE_NBR  LYLTY_CARD_NBR  TXN_ID  PROD_NBR  \\\n",
       "0  43390          1            1000       1         5   \n",
       "1  43599          1            1307     348        66   \n",
       "2  43605          1            1343     383        61   \n",
       "3  43329          2            2373     974        69   \n",
       "4  43330          2            2426    1038       108   \n",
       "\n",
       "                                  PROD_NAME  PROD_QTY  TOT_SALES  \n",
       "0    Natural Chip        Compny SeaSalt175g         2        6.0  \n",
       "1                  CCs Nacho Cheese    175g         3        6.3  \n",
       "2    Smiths Crinkle Cut  Chips Chicken 170g         2        2.9  \n",
       "3    Smiths Chip Thinly  S/Cream&Onion 175g         5       15.0  \n",
       "4  Kettle Tortilla ChpsHny&Jlpno Chili 150g         3       13.8  "
      ]
     },
     "execution_count": 139,
     "metadata": {},
     "output_type": "execute_result"
    }
   ],
   "source": [
    "# Load the transaction data (Dataset-1)\n",
    "df_transactions = pd.read_csv(\"C:/Users/anura/Downloads/iGnosis Tech/Dataset/transaction_data.csv\")\n",
    "# This reads the CSV file located at the given path and loads it into a DataFrame called df_transactions.\n",
    "\n",
    "# Preview the data to understand its structure\n",
    "df_transactions.head()\n",
    "# This displays the first 5 rows of the DataFrame, helping us understand the columns and structure of the data."
   ]
  },
  {
   "cell_type": "code",
   "execution_count": 140,
   "metadata": {},
   "outputs": [
    {
     "data": {
      "text/plain": [
       "DATE              0\n",
       "STORE_NBR         0\n",
       "LYLTY_CARD_NBR    0\n",
       "TXN_ID            0\n",
       "PROD_NBR          0\n",
       "PROD_NAME         0\n",
       "PROD_QTY          0\n",
       "TOT_SALES         0\n",
       "dtype: int64"
      ]
     },
     "execution_count": 140,
     "metadata": {},
     "output_type": "execute_result"
    }
   ],
   "source": [
    "# Check for missing values and duplicates for transactions dataset\n",
    "\n",
    "df_transactions.isnull().sum()\n",
    "# This checks for any missing (NaN) values in the DataFrame 'df_transactions'.\n",
    "# .isnull() returns a boolean DataFrame, where True indicates a missing value.\n",
    "# .sum() adds up the number of True values (i.e., missing values) for each column."
   ]
  },
  {
   "cell_type": "markdown",
   "metadata": {},
   "source": [
    "Hence, there is no null values for transactions dataset"
   ]
  },
  {
   "cell_type": "code",
   "execution_count": 141,
   "metadata": {},
   "outputs": [
    {
     "name": "stdout",
     "output_type": "stream",
     "text": [
      "<class 'pandas.core.frame.DataFrame'>\n",
      "RangeIndex: 264836 entries, 0 to 264835\n",
      "Data columns (total 8 columns):\n",
      " #   Column          Non-Null Count   Dtype  \n",
      "---  ------          --------------   -----  \n",
      " 0   DATE            264836 non-null  int64  \n",
      " 1   STORE_NBR       264836 non-null  int64  \n",
      " 2   LYLTY_CARD_NBR  264836 non-null  int64  \n",
      " 3   TXN_ID          264836 non-null  int64  \n",
      " 4   PROD_NBR        264836 non-null  int64  \n",
      " 5   PROD_NAME       264836 non-null  object \n",
      " 6   PROD_QTY        264836 non-null  int64  \n",
      " 7   TOT_SALES       264836 non-null  float64\n",
      "dtypes: float64(1), int64(6), object(1)\n",
      "memory usage: 16.2+ MB\n"
     ]
    }
   ],
   "source": [
    "# Check the overall info of the transactions dataset\n",
    "df_transactions.info()\n",
    "# This function provides a summary of the DataFrame, including the number of non-null values, data types of columns, and memory usage."
   ]
  },
  {
   "cell_type": "code",
   "execution_count": null,
   "metadata": {},
   "outputs": [
    {
     "data": {
      "text/plain": [
       "72637"
      ]
     },
     "execution_count": 7,
     "metadata": {},
     "output_type": "execute_result"
    }
   ],
   "source": [
    "# The total number of transactions made by customers on the basis of their loyalty card number\n",
    "df_transactions['LYLTY_CARD_NBR'].nunique()\n",
    "# This calculates the number of unique loyalty card numbers in the 'LYLTY_CARD_NBR' column.\n",
    "# .nunique() returns the count of distinct values in the specified column."
   ]
  },
  {
   "cell_type": "markdown",
   "metadata": {},
   "source": [
    "Here, we can conclude that we have total '72637' unique customers."
   ]
  },
  {
   "cell_type": "code",
   "execution_count": 142,
   "metadata": {},
   "outputs": [
    {
     "data": {
      "text/plain": [
       "272"
      ]
     },
     "execution_count": 142,
     "metadata": {},
     "output_type": "execute_result"
    }
   ],
   "source": [
    "# Total number of the stores from which the transactions were made\n",
    "df_transactions['STORE_NBR'].nunique()\n",
    "# This calculates the number of unique stores based on the 'STORE_NBR' column.\n",
    "# .nunique() returns the count of distinct store numbers (i.e., unique stores)."
   ]
  },
  {
   "cell_type": "code",
   "execution_count": 143,
   "metadata": {},
   "outputs": [
    {
     "data": {
      "text/plain": [
       "6"
      ]
     },
     "execution_count": 143,
     "metadata": {},
     "output_type": "execute_result"
    }
   ],
   "source": [
    "# Max Quantity of the products purchased\n",
    "df_transactions['PROD_QTY'].nunique()\n",
    "# This calculates the number of unique quantities of products purchased (distinct values in the 'PROD_QTY' column).\n",
    "# .nunique() returns the count of distinct quantities."
   ]
  },
  {
   "cell_type": "code",
   "execution_count": 144,
   "metadata": {},
   "outputs": [
    {
     "data": {
      "text/plain": [
       "364"
      ]
     },
     "execution_count": 144,
     "metadata": {},
     "output_type": "execute_result"
    }
   ],
   "source": [
    "# Unique date on which the transactions were made\n",
    "df_transactions['DATE'].nunique()\n",
    "# This calculates the number of unique dates on which transactions occurred based on the 'DATE' column.\n",
    "# .nunique() returns the count of distinct dates."
   ]
  },
  {
   "cell_type": "code",
   "execution_count": 145,
   "metadata": {},
   "outputs": [
    {
     "data": {
      "text/plain": [
       "114"
      ]
     },
     "execution_count": 145,
     "metadata": {},
     "output_type": "execute_result"
    }
   ],
   "source": [
    "# Total unique products sold\n",
    "df_transactions['PROD_NAME'].nunique()\n",
    "# This calculates the number of unique products sold based on the 'PROD_NAME' column.\n",
    "# .nunique() returns the count of distinct product names."
   ]
  },
  {
   "cell_type": "code",
   "execution_count": 146,
   "metadata": {},
   "outputs": [
    {
     "data": {
      "text/plain": [
       "114"
      ]
     },
     "execution_count": 146,
     "metadata": {},
     "output_type": "execute_result"
    }
   ],
   "source": [
    "# Total unique products sold\n",
    "df_transactions['PROD_NBR'].nunique()\n",
    "# This calculates the number of unique product numbers sold based on the 'PROD_NBR' column.\n",
    "# .nunique() returns the count of distinct product numbers."
   ]
  },
  {
   "cell_type": "markdown",
   "metadata": {},
   "source": [
    "# 1. Top 3 most profitable products"
   ]
  },
  {
   "cell_type": "markdown",
   "metadata": {},
   "source": [
    "Top selling product on the basis of the no. of transactions of the particular products, means the products which has been purchased maximum no. of times in a fixed quantity."
   ]
  },
  {
   "cell_type": "code",
   "execution_count": 147,
   "metadata": {},
   "outputs": [
    {
     "data": {
      "text/html": [
       "<div>\n",
       "<style scoped>\n",
       "    .dataframe tbody tr th:only-of-type {\n",
       "        vertical-align: middle;\n",
       "    }\n",
       "\n",
       "    .dataframe tbody tr th {\n",
       "        vertical-align: top;\n",
       "    }\n",
       "\n",
       "    .dataframe thead th {\n",
       "        text-align: right;\n",
       "    }\n",
       "</style>\n",
       "<table border=\"1\" class=\"dataframe\">\n",
       "  <thead>\n",
       "    <tr style=\"text-align: right;\">\n",
       "      <th></th>\n",
       "      <th>PROD_NAME</th>\n",
       "      <th>PROD_QTY</th>\n",
       "      <th>TOT_SALES</th>\n",
       "      <th>count</th>\n",
       "    </tr>\n",
       "  </thead>\n",
       "  <tbody>\n",
       "    <tr>\n",
       "      <th>0</th>\n",
       "      <td>Kettle Mozzarella   Basil &amp; Pesto 175g</td>\n",
       "      <td>2</td>\n",
       "      <td>10.8</td>\n",
       "      <td>3004</td>\n",
       "    </tr>\n",
       "    <tr>\n",
       "      <th>1</th>\n",
       "      <td>Cobs Popd Sea Salt  Chips 110g</td>\n",
       "      <td>2</td>\n",
       "      <td>7.6</td>\n",
       "      <td>2979</td>\n",
       "    </tr>\n",
       "    <tr>\n",
       "      <th>2</th>\n",
       "      <td>Kettle Tortilla ChpsHny&amp;Jlpno Chili 150g</td>\n",
       "      <td>2</td>\n",
       "      <td>9.2</td>\n",
       "      <td>2961</td>\n",
       "    </tr>\n",
       "    <tr>\n",
       "      <th>3</th>\n",
       "      <td>Cobs Popd Swt/Chlli &amp;Sr/Cream Chips 110g</td>\n",
       "      <td>2</td>\n",
       "      <td>7.6</td>\n",
       "      <td>2950</td>\n",
       "    </tr>\n",
       "    <tr>\n",
       "      <th>4</th>\n",
       "      <td>Tostitos Splash Of  Lime 175g</td>\n",
       "      <td>2</td>\n",
       "      <td>8.8</td>\n",
       "      <td>2936</td>\n",
       "    </tr>\n",
       "    <tr>\n",
       "      <th>...</th>\n",
       "      <td>...</td>\n",
       "      <td>...</td>\n",
       "      <td>...</td>\n",
       "      <td>...</td>\n",
       "    </tr>\n",
       "    <tr>\n",
       "      <th>571</th>\n",
       "      <td>Dorito Corn Chp     Supreme 380g</td>\n",
       "      <td>3</td>\n",
       "      <td>19.5</td>\n",
       "      <td>1</td>\n",
       "    </tr>\n",
       "    <tr>\n",
       "      <th>572</th>\n",
       "      <td>Cheetos Chs &amp; Bacon Balls 190g</td>\n",
       "      <td>5</td>\n",
       "      <td>16.5</td>\n",
       "      <td>1</td>\n",
       "    </tr>\n",
       "    <tr>\n",
       "      <th>573</th>\n",
       "      <td>CCs Tasty Cheese    175g</td>\n",
       "      <td>3</td>\n",
       "      <td>6.3</td>\n",
       "      <td>1</td>\n",
       "    </tr>\n",
       "    <tr>\n",
       "      <th>574</th>\n",
       "      <td>Cobs Popd Sea Salt  Chips 110g</td>\n",
       "      <td>4</td>\n",
       "      <td>15.2</td>\n",
       "      <td>1</td>\n",
       "    </tr>\n",
       "    <tr>\n",
       "      <th>575</th>\n",
       "      <td>WW Original Corn    Chips 200g</td>\n",
       "      <td>3</td>\n",
       "      <td>5.7</td>\n",
       "      <td>1</td>\n",
       "    </tr>\n",
       "  </tbody>\n",
       "</table>\n",
       "<p>576 rows × 4 columns</p>\n",
       "</div>"
      ],
      "text/plain": [
       "                                    PROD_NAME  PROD_QTY  TOT_SALES  count\n",
       "0      Kettle Mozzarella   Basil & Pesto 175g         2       10.8   3004\n",
       "1              Cobs Popd Sea Salt  Chips 110g         2        7.6   2979\n",
       "2    Kettle Tortilla ChpsHny&Jlpno Chili 150g         2        9.2   2961\n",
       "3    Cobs Popd Swt/Chlli &Sr/Cream Chips 110g         2        7.6   2950\n",
       "4               Tostitos Splash Of  Lime 175g         2        8.8   2936\n",
       "..                                        ...       ...        ...    ...\n",
       "571          Dorito Corn Chp     Supreme 380g         3       19.5      1\n",
       "572            Cheetos Chs & Bacon Balls 190g         5       16.5      1\n",
       "573                  CCs Tasty Cheese    175g         3        6.3      1\n",
       "574            Cobs Popd Sea Salt  Chips 110g         4       15.2      1\n",
       "575            WW Original Corn    Chips 200g         3        5.7      1\n",
       "\n",
       "[576 rows x 4 columns]"
      ]
     },
     "execution_count": 147,
     "metadata": {},
     "output_type": "execute_result"
    }
   ],
   "source": [
    "# Count the occurrences of unique combinations of 'PROD_NAME', 'PROD_QTY', and 'TOT_SALES'\n",
    "df_transactions[['PROD_NAME', 'PROD_QTY','TOT_SALES']].value_counts().reset_index()\n",
    "# This counts the number of occurrences of each unique combination of the columns: 'PROD_NAME', 'PROD_QTY', and 'TOT_SALES'.\n",
    "# .value_counts() returns the frequency of each unique combination of these three columns.\n",
    "# .reset_index() is used to convert the result into a DataFrame and reset the index for better readability."
   ]
  },
  {
   "cell_type": "markdown",
   "metadata": {},
   "source": [
    "So from this we can conclude that the top 3 selling products on the basis of the quantity and total sales are :"
   ]
  },
  {
   "cell_type": "code",
   "execution_count": 148,
   "metadata": {},
   "outputs": [
    {
     "data": {
      "text/html": [
       "<div>\n",
       "<style scoped>\n",
       "    .dataframe tbody tr th:only-of-type {\n",
       "        vertical-align: middle;\n",
       "    }\n",
       "\n",
       "    .dataframe tbody tr th {\n",
       "        vertical-align: top;\n",
       "    }\n",
       "\n",
       "    .dataframe thead th {\n",
       "        text-align: right;\n",
       "    }\n",
       "</style>\n",
       "<table border=\"1\" class=\"dataframe\">\n",
       "  <thead>\n",
       "    <tr style=\"text-align: right;\">\n",
       "      <th></th>\n",
       "      <th>PROD_NAME</th>\n",
       "      <th>PROD_QTY</th>\n",
       "      <th>TOT_SALES</th>\n",
       "      <th>count</th>\n",
       "    </tr>\n",
       "  </thead>\n",
       "  <tbody>\n",
       "    <tr>\n",
       "      <th>0</th>\n",
       "      <td>Kettle Mozzarella   Basil &amp; Pesto 175g</td>\n",
       "      <td>2</td>\n",
       "      <td>10.8</td>\n",
       "      <td>3004</td>\n",
       "    </tr>\n",
       "    <tr>\n",
       "      <th>1</th>\n",
       "      <td>Cobs Popd Sea Salt  Chips 110g</td>\n",
       "      <td>2</td>\n",
       "      <td>7.6</td>\n",
       "      <td>2979</td>\n",
       "    </tr>\n",
       "    <tr>\n",
       "      <th>2</th>\n",
       "      <td>Kettle Tortilla ChpsHny&amp;Jlpno Chili 150g</td>\n",
       "      <td>2</td>\n",
       "      <td>9.2</td>\n",
       "      <td>2961</td>\n",
       "    </tr>\n",
       "  </tbody>\n",
       "</table>\n",
       "</div>"
      ],
      "text/plain": [
       "                                  PROD_NAME  PROD_QTY  TOT_SALES  count\n",
       "0    Kettle Mozzarella   Basil & Pesto 175g         2       10.8   3004\n",
       "1            Cobs Popd Sea Salt  Chips 110g         2        7.6   2979\n",
       "2  Kettle Tortilla ChpsHny&Jlpno Chili 150g         2        9.2   2961"
      ]
     },
     "execution_count": 148,
     "metadata": {},
     "output_type": "execute_result"
    }
   ],
   "source": [
    "# Get the top 3 most frequent combinations of 'PROD_NAME', 'PROD_QTY', and 'TOT_SALES'\n",
    "df_transactions[['PROD_NAME', 'PROD_QTY', 'TOT_SALES']].value_counts().reset_index().head(3)\n",
    "# This first counts the occurrences of each unique combination of 'PROD_NAME', 'PROD_QTY', and 'TOT_SALES'.\n",
    "# .value_counts() returns the frequency of each unique combination.\n",
    "# .reset_index() turns the result into a DataFrame with proper column names.\n",
    "# .head(3) returns the top 3 rows, showing the most frequent combinations."
   ]
  },
  {
   "cell_type": "code",
   "execution_count": 149,
   "metadata": {},
   "outputs": [
    {
     "data": {
      "text/plain": [
       "<Figure size 800x800 with 0 Axes>"
      ]
     },
     "execution_count": 149,
     "metadata": {},
     "output_type": "execute_result"
    },
    {
     "data": {
      "text/plain": [
       "<Figure size 800x800 with 0 Axes>"
      ]
     },
     "metadata": {},
     "output_type": "display_data"
    }
   ],
   "source": [
    "# Set the figure size for the plot\n",
    "plt.figure(figsize=(8, 8))\n",
    "# This creates a new figure (or canvas) with a specified size (width=8 inches, height=8 inches)."
   ]
  },
  {
   "cell_type": "code",
   "execution_count": 150,
   "metadata": {},
   "outputs": [],
   "source": [
    "# Define a custom function to display the count only\n",
    "def func(pct, allvalues):\n",
    "    # Calculate the absolute count by multiplying the percentage (pct) by the sum of all values\n",
    "    absolute = int(pct / 100. * sum(allvalues))  # Calculate the count\n",
    "    return f\"{absolute}\"  # Only show the count as an integer"
   ]
  },
  {
   "cell_type": "code",
   "execution_count": 151,
   "metadata": {},
   "outputs": [],
   "source": [
    "# Getting the value counts for combinations of 'PROD_NAME' and 'TOT_SALES'\n",
    "counts = df_transactions[['PROD_NAME', 'TOT_SALES']].value_counts().head(3)\n",
    "# This counts how many times each unique combination of 'PROD_NAME' and 'TOT_SALES' appears in the dataset.\n",
    "# .value_counts() returns the frequency of each unique pair of product name and total sales.\n",
    "# .head(3) selects the top 3 most frequent combinations (based on product and total sales).\n",
    "\n",
    "# Extract the actual values (counts) from the result\n",
    "count_values = counts.values\n",
    "# This extracts the frequency counts (numbers) from the 'counts' Series and stores them in the variable 'count_values'.\n",
    "# 'counts.values' gives the count numbers without the index (the product and sales pair)."
   ]
  },
  {
   "cell_type": "code",
   "execution_count": 152,
   "metadata": {},
   "outputs": [
    {
     "data": {
      "image/png": "[encoded data removed]",
      "text/plain": [
       "<Figure size 640x480 with 1 Axes>"
      ]
     },
     "metadata": {},
     "output_type": "display_data"
    }
   ],
   "source": [
    "# Plot the pie chart of top 3 selling products on the basis of the total sales.\n",
    "\n",
    "# Set the title for the pie chart\n",
    "plt.title('Sales Distribution by Product Name')\n",
    "\n",
    "# Create the pie chart\n",
    "plt.pie(count_values, \n",
    "        labels=counts.index, \n",
    "        autopct=lambda pct: func(pct, count_values),  # Custom function to show counts\n",
    "        startangle=140)  # Set the starting angle to make the chart visually appealing\n",
    "\n",
    "# Show the plot\n",
    "plt.show()"
   ]
  },
  {
   "cell_type": "markdown",
   "metadata": {},
   "source": [
    "Top selling product on the basis of Total sales, means the products which has been sold in a fixed quantity and there total sales is high."
   ]
  },
  {
   "cell_type": "code",
   "execution_count": 153,
   "metadata": {},
   "outputs": [
    {
     "data": {
      "text/html": [
       "<div>\n",
       "<style scoped>\n",
       "    .dataframe tbody tr th:only-of-type {\n",
       "        vertical-align: middle;\n",
       "    }\n",
       "\n",
       "    .dataframe tbody tr th {\n",
       "        vertical-align: top;\n",
       "    }\n",
       "\n",
       "    .dataframe thead th {\n",
       "        text-align: right;\n",
       "    }\n",
       "</style>\n",
       "<table border=\"1\" class=\"dataframe\">\n",
       "  <thead>\n",
       "    <tr style=\"text-align: right;\">\n",
       "      <th></th>\n",
       "      <th>PROD_NBR</th>\n",
       "      <th>PROD_NAME</th>\n",
       "      <th>TOT_SALES</th>\n",
       "    </tr>\n",
       "  </thead>\n",
       "  <tbody>\n",
       "    <tr>\n",
       "      <th>3</th>\n",
       "      <td>4</td>\n",
       "      <td>Dorito Corn Chp     Supreme 380g</td>\n",
       "      <td>40352.0</td>\n",
       "    </tr>\n",
       "    <tr>\n",
       "      <th>13</th>\n",
       "      <td>14</td>\n",
       "      <td>Smiths Crnkle Chip  Orgnl Big Bag 380g</td>\n",
       "      <td>36367.6</td>\n",
       "    </tr>\n",
       "    <tr>\n",
       "      <th>15</th>\n",
       "      <td>16</td>\n",
       "      <td>Smiths Crinkle Chips Salt &amp; Vinegar 330g</td>\n",
       "      <td>34804.2</td>\n",
       "    </tr>\n",
       "  </tbody>\n",
       "</table>\n",
       "</div>"
      ],
      "text/plain": [
       "    PROD_NBR                                 PROD_NAME  TOT_SALES\n",
       "3          4          Dorito Corn Chp     Supreme 380g    40352.0\n",
       "13        14    Smiths Crnkle Chip  Orgnl Big Bag 380g    36367.6\n",
       "15        16  Smiths Crinkle Chips Salt & Vinegar 330g    34804.2"
      ]
     },
     "execution_count": 153,
     "metadata": {},
     "output_type": "execute_result"
    }
   ],
   "source": [
    "# Group by product number and name, sum the sales, and reset index to get total sales for each product\n",
    "df_product_sales = df_transactions.groupby(['PROD_NBR', 'PROD_NAME'])['TOT_SALES'].sum().reset_index()\n",
    "# This groups the data by both 'PROD_NBR' (product number) and 'PROD_NAME' (product name).\n",
    "# Then, it calculates the total sales for each group by summing up 'TOT_SALES' for each combination.\n",
    "# .reset_index() is used to convert the result into a DataFrame and reset the index for better readability.\n",
    "\n",
    "# Sort the products by total sales in descending order to get the top 3\n",
    "top_3_products = df_product_sales.sort_values(by='TOT_SALES', ascending=False).head(3)\n",
    "# .sort_values() sorts the DataFrame by the 'TOT_SALES' column in descending order.\n",
    "# .head(3) selects the top 3 rows, showing the top 3 products with the highest total sales.\n",
    "\n",
    "# Display the top 3 products\n",
    "top_3_products\n",
    "# This will display the DataFrame containing the top 3 products with the highest total sales."
   ]
  },
  {
   "cell_type": "code",
   "execution_count": 154,
   "metadata": {},
   "outputs": [
    {
     "data": {
      "text/plain": [
       "Text(0.5, 1.0, 'Top 3 Products by Total Sales')"
      ]
     },
     "execution_count": 154,
     "metadata": {},
     "output_type": "execute_result"
    },
    {
     "data": {
      "image/png": "[encoded data removed]",
      "text/plain": [
       "<Figure size 640x480 with 1 Axes>"
      ]
     },
     "metadata": {},
     "output_type": "display_data"
    }
   ],
   "source": [
    "# Plotting the pie chart for the top 3 products\n",
    "plt.pie(top_3_products['TOT_SALES'], labels=top_3_products['PROD_NAME'], autopct='%1.1f%%', startangle=140)\n",
    "# 'top_3_products['TOT_SALES']': This is the data (total sales) used for the pie chart, representing the size of each slice.\n",
    "# 'labels=top_3_products['PROD_NAME']': These are the labels for each slice, representing the names of the top 3 products.\n",
    "# 'autopct='%1.1f%%'': This formats the percentage labels on the pie chart slices, showing one decimal place (e.g., 33.3%).\n",
    "# 'startangle=140': This rotates the pie chart to start the first slice at 140 degrees, for better visual presentation.\n",
    "\n",
    "# Adding a title\n",
    "plt.title('Top 3 Products by Total Sales')\n",
    "# This sets the title of the pie chart to describe what the chart represents (i.e., the top 3 products based on total sales)."
   ]
  },
  {
   "cell_type": "code",
   "execution_count": null,
   "metadata": {},
   "outputs": [],
   "source": []
  },
  {
   "cell_type": "code",
   "execution_count": 155,
   "metadata": {},
   "outputs": [
    {
     "data": {
      "text/html": [
       "<div>\n",
       "<style scoped>\n",
       "    .dataframe tbody tr th:only-of-type {\n",
       "        vertical-align: middle;\n",
       "    }\n",
       "\n",
       "    .dataframe tbody tr th {\n",
       "        vertical-align: top;\n",
       "    }\n",
       "\n",
       "    .dataframe thead th {\n",
       "        text-align: right;\n",
       "    }\n",
       "</style>\n",
       "<table border=\"1\" class=\"dataframe\">\n",
       "  <thead>\n",
       "    <tr style=\"text-align: right;\">\n",
       "      <th></th>\n",
       "      <th>LYLTY_CARD_NBR</th>\n",
       "      <th>LIFESTAGE</th>\n",
       "      <th>PREMIUM_CUSTOMER</th>\n",
       "    </tr>\n",
       "  </thead>\n",
       "  <tbody>\n",
       "    <tr>\n",
       "      <th>0</th>\n",
       "      <td>1000</td>\n",
       "      <td>YOUNG SINGLES/COUPLES</td>\n",
       "      <td>Premium</td>\n",
       "    </tr>\n",
       "    <tr>\n",
       "      <th>1</th>\n",
       "      <td>1002</td>\n",
       "      <td>YOUNG SINGLES/COUPLES</td>\n",
       "      <td>Mainstream</td>\n",
       "    </tr>\n",
       "    <tr>\n",
       "      <th>2</th>\n",
       "      <td>1003</td>\n",
       "      <td>YOUNG FAMILIES</td>\n",
       "      <td>Budget</td>\n",
       "    </tr>\n",
       "    <tr>\n",
       "      <th>3</th>\n",
       "      <td>1004</td>\n",
       "      <td>OLDER SINGLES/COUPLES</td>\n",
       "      <td>Mainstream</td>\n",
       "    </tr>\n",
       "    <tr>\n",
       "      <th>4</th>\n",
       "      <td>1005</td>\n",
       "      <td>MIDAGE SINGLES/COUPLES</td>\n",
       "      <td>Mainstream</td>\n",
       "    </tr>\n",
       "  </tbody>\n",
       "</table>\n",
       "</div>"
      ],
      "text/plain": [
       "   LYLTY_CARD_NBR               LIFESTAGE PREMIUM_CUSTOMER\n",
       "0            1000   YOUNG SINGLES/COUPLES          Premium\n",
       "1            1002   YOUNG SINGLES/COUPLES       Mainstream\n",
       "2            1003          YOUNG FAMILIES           Budget\n",
       "3            1004   OLDER SINGLES/COUPLES       Mainstream\n",
       "4            1005  MIDAGE SINGLES/COUPLES       Mainstream"
      ]
     },
     "execution_count": 155,
     "metadata": {},
     "output_type": "execute_result"
    }
   ],
   "source": [
    "# Load the customer data (Dataset-2)\n",
    "df_customers = pd.read_csv(\"C:/Users/anura/Downloads/iGnosis Tech/Dataset/purchase_behaviour.csv\")\n",
    "\n",
    "# Display the first few rows of the customer data to understand its structure\n",
    "df_customers.head()"
   ]
  },
  {
   "cell_type": "code",
   "execution_count": 156,
   "metadata": {},
   "outputs": [
    {
     "data": {
      "text/plain": [
       "LYLTY_CARD_NBR      0\n",
       "LIFESTAGE           0\n",
       "PREMIUM_CUSTOMER    0\n",
       "dtype: int64"
      ]
     },
     "execution_count": 156,
     "metadata": {},
     "output_type": "execute_result"
    }
   ],
   "source": [
    "# Check for missing values in the 'df_customers' dataset\n",
    "df_customers.isnull().sum()"
   ]
  },
  {
   "cell_type": "markdown",
   "metadata": {},
   "source": [
    "Hence, there is no null for purchase_behaviour dataset"
   ]
  },
  {
   "cell_type": "code",
   "execution_count": 157,
   "metadata": {},
   "outputs": [
    {
     "data": {
      "text/plain": [
       "3"
      ]
     },
     "execution_count": 157,
     "metadata": {},
     "output_type": "execute_result"
    }
   ],
   "source": [
    "# Access the 'PREMIUM_CUSTOMER' column from the 'df_customers' DataFrame\n",
    "df_customers['PREMIUM_CUSTOMER'].nunique()\n",
    "# This line looks at the 'PREMIUM_CUSTOMER' column, which contains values like 'Premium','Mainstream' and 'Budget'.\n",
    "# .nunique() is then called on this column to count how many unique values are present.\n",
    "# The result will tell us how many distinct values are in the 'PREMIUM_CUSTOMER' column (typically 0 and 1)."
   ]
  },
  {
   "cell_type": "markdown",
   "metadata": {},
   "source": [
    "So, we have total 3 categories of premium customers"
   ]
  },
  {
   "cell_type": "code",
   "execution_count": 102,
   "metadata": {},
   "outputs": [
    {
     "data": {
      "text/plain": [
       "7"
      ]
     },
     "execution_count": 102,
     "metadata": {},
     "output_type": "execute_result"
    }
   ],
   "source": [
    "# Count the number of unique values in the 'LIFESTAGE' column of the df_customers DataFrame\n",
    "df_customers['LIFESTAGE'].nunique()\n",
    "# This line checks the 'LIFESTAGE' column, which categorizes customers by their life stage (e.g. 'YOUNG SINGLES/COUPLES', 'YOUNG FAMILIES', 'OLDER SINGLES/COUPLES' etc).\n",
    "# .nunique() is used to count how many distinct life stages exist in the data.\n",
    "# The result will indicate how many different categories or unique life stages are present in the 'LIFESTAGE' column."
   ]
  },
  {
   "cell_type": "markdown",
   "metadata": {},
   "source": [
    "So, we have total 7 categories of Lifestage of the customers"
   ]
  },
  {
   "cell_type": "code",
   "execution_count": null,
   "metadata": {},
   "outputs": [],
   "source": []
  },
  {
   "cell_type": "markdown",
   "metadata": {},
   "source": [
    "We need to combine both datasets so we can analyze customer segments alongside transaction details."
   ]
  },
  {
   "cell_type": "code",
   "execution_count": 158,
   "metadata": {},
   "outputs": [
    {
     "data": {
      "text/html": [
       "<div>\n",
       "<style scoped>\n",
       "    .dataframe tbody tr th:only-of-type {\n",
       "        vertical-align: middle;\n",
       "    }\n",
       "\n",
       "    .dataframe tbody tr th {\n",
       "        vertical-align: top;\n",
       "    }\n",
       "\n",
       "    .dataframe thead th {\n",
       "        text-align: right;\n",
       "    }\n",
       "</style>\n",
       "<table border=\"1\" class=\"dataframe\">\n",
       "  <thead>\n",
       "    <tr style=\"text-align: right;\">\n",
       "      <th></th>\n",
       "      <th>DATE</th>\n",
       "      <th>STORE_NBR</th>\n",
       "      <th>LYLTY_CARD_NBR</th>\n",
       "      <th>TXN_ID</th>\n",
       "      <th>PROD_NBR</th>\n",
       "      <th>PROD_NAME</th>\n",
       "      <th>PROD_QTY</th>\n",
       "      <th>TOT_SALES</th>\n",
       "      <th>LIFESTAGE</th>\n",
       "      <th>PREMIUM_CUSTOMER</th>\n",
       "    </tr>\n",
       "  </thead>\n",
       "  <tbody>\n",
       "    <tr>\n",
       "      <th>0</th>\n",
       "      <td>43390</td>\n",
       "      <td>1</td>\n",
       "      <td>1000</td>\n",
       "      <td>1</td>\n",
       "      <td>5</td>\n",
       "      <td>Natural Chip        Compny SeaSalt175g</td>\n",
       "      <td>2</td>\n",
       "      <td>6.0</td>\n",
       "      <td>YOUNG SINGLES/COUPLES</td>\n",
       "      <td>Premium</td>\n",
       "    </tr>\n",
       "    <tr>\n",
       "      <th>1</th>\n",
       "      <td>43599</td>\n",
       "      <td>1</td>\n",
       "      <td>1307</td>\n",
       "      <td>348</td>\n",
       "      <td>66</td>\n",
       "      <td>CCs Nacho Cheese    175g</td>\n",
       "      <td>3</td>\n",
       "      <td>6.3</td>\n",
       "      <td>MIDAGE SINGLES/COUPLES</td>\n",
       "      <td>Budget</td>\n",
       "    </tr>\n",
       "    <tr>\n",
       "      <th>2</th>\n",
       "      <td>43605</td>\n",
       "      <td>1</td>\n",
       "      <td>1343</td>\n",
       "      <td>383</td>\n",
       "      <td>61</td>\n",
       "      <td>Smiths Crinkle Cut  Chips Chicken 170g</td>\n",
       "      <td>2</td>\n",
       "      <td>2.9</td>\n",
       "      <td>MIDAGE SINGLES/COUPLES</td>\n",
       "      <td>Budget</td>\n",
       "    </tr>\n",
       "    <tr>\n",
       "      <th>3</th>\n",
       "      <td>43329</td>\n",
       "      <td>2</td>\n",
       "      <td>2373</td>\n",
       "      <td>974</td>\n",
       "      <td>69</td>\n",
       "      <td>Smiths Chip Thinly  S/Cream&amp;Onion 175g</td>\n",
       "      <td>5</td>\n",
       "      <td>15.0</td>\n",
       "      <td>MIDAGE SINGLES/COUPLES</td>\n",
       "      <td>Budget</td>\n",
       "    </tr>\n",
       "    <tr>\n",
       "      <th>4</th>\n",
       "      <td>43330</td>\n",
       "      <td>2</td>\n",
       "      <td>2426</td>\n",
       "      <td>1038</td>\n",
       "      <td>108</td>\n",
       "      <td>Kettle Tortilla ChpsHny&amp;Jlpno Chili 150g</td>\n",
       "      <td>3</td>\n",
       "      <td>13.8</td>\n",
       "      <td>MIDAGE SINGLES/COUPLES</td>\n",
       "      <td>Budget</td>\n",
       "    </tr>\n",
       "  </tbody>\n",
       "</table>\n",
       "</div>"
      ],
      "text/plain": [
       "    DATE  STORE_NBR  LYLTY_CARD_NBR  TXN_ID  PROD_NBR  \\\n",
       "0  43390          1            1000       1         5   \n",
       "1  43599          1            1307     348        66   \n",
       "2  43605          1            1343     383        61   \n",
       "3  43329          2            2373     974        69   \n",
       "4  43330          2            2426    1038       108   \n",
       "\n",
       "                                  PROD_NAME  PROD_QTY  TOT_SALES  \\\n",
       "0    Natural Chip        Compny SeaSalt175g         2        6.0   \n",
       "1                  CCs Nacho Cheese    175g         3        6.3   \n",
       "2    Smiths Crinkle Cut  Chips Chicken 170g         2        2.9   \n",
       "3    Smiths Chip Thinly  S/Cream&Onion 175g         5       15.0   \n",
       "4  Kettle Tortilla ChpsHny&Jlpno Chili 150g         3       13.8   \n",
       "\n",
       "                LIFESTAGE PREMIUM_CUSTOMER  \n",
       "0   YOUNG SINGLES/COUPLES          Premium  \n",
       "1  MIDAGE SINGLES/COUPLES           Budget  \n",
       "2  MIDAGE SINGLES/COUPLES           Budget  \n",
       "3  MIDAGE SINGLES/COUPLES           Budget  \n",
       "4  MIDAGE SINGLES/COUPLES           Budget  "
      ]
     },
     "execution_count": 158,
     "metadata": {},
     "output_type": "execute_result"
    }
   ],
   "source": [
    "# Merge the 'df_transactions' dataset with 'df_customers' dataset on the 'LYLTY_CARD_NBR' column to combine customer info with transaction data\n",
    "df_combined = pd.merge(df_transactions, df_customers, on='LYLTY_CARD_NBR', how='left')\n",
    "\n",
    "# Check the merged data by displaying the first few rows\n",
    "df_combined.head()"
   ]
  },
  {
   "cell_type": "code",
   "execution_count": 159,
   "metadata": {},
   "outputs": [
    {
     "name": "stdout",
     "output_type": "stream",
     "text": [
      "<class 'pandas.core.frame.DataFrame'>\n",
      "RangeIndex: 264836 entries, 0 to 264835\n",
      "Data columns (total 10 columns):\n",
      " #   Column            Non-Null Count   Dtype  \n",
      "---  ------            --------------   -----  \n",
      " 0   DATE              264836 non-null  int64  \n",
      " 1   STORE_NBR         264836 non-null  int64  \n",
      " 2   LYLTY_CARD_NBR    264836 non-null  int64  \n",
      " 3   TXN_ID            264836 non-null  int64  \n",
      " 4   PROD_NBR          264836 non-null  int64  \n",
      " 5   PROD_NAME         264836 non-null  object \n",
      " 6   PROD_QTY          264836 non-null  int64  \n",
      " 7   TOT_SALES         264836 non-null  float64\n",
      " 8   LIFESTAGE         264836 non-null  object \n",
      " 9   PREMIUM_CUSTOMER  264836 non-null  object \n",
      "dtypes: float64(1), int64(6), object(3)\n",
      "memory usage: 20.2+ MB\n"
     ]
    }
   ],
   "source": [
    "# Get detailed information about the 'df_combined' DataFrame, such as the number of entries, column data types, and any missing values\n",
    "df_combined.info()"
   ]
  },
  {
   "cell_type": "code",
   "execution_count": null,
   "metadata": {},
   "outputs": [],
   "source": []
  },
  {
   "cell_type": "markdown",
   "metadata": {},
   "source": [
    "# 2. Characteristics of most loyal customers"
   ]
  },
  {
   "cell_type": "code",
   "execution_count": 160,
   "metadata": {},
   "outputs": [
    {
     "data": {
      "text/html": [
       "<div>\n",
       "<style scoped>\n",
       "    .dataframe tbody tr th:only-of-type {\n",
       "        vertical-align: middle;\n",
       "    }\n",
       "\n",
       "    .dataframe tbody tr th {\n",
       "        vertical-align: top;\n",
       "    }\n",
       "\n",
       "    .dataframe thead th {\n",
       "        text-align: right;\n",
       "    }\n",
       "</style>\n",
       "<table border=\"1\" class=\"dataframe\">\n",
       "  <thead>\n",
       "    <tr style=\"text-align: right;\">\n",
       "      <th></th>\n",
       "      <th>LYLTY_CARD_NBR</th>\n",
       "      <th>total_sales</th>\n",
       "      <th>transaction_count</th>\n",
       "      <th>LIFESTAGE</th>\n",
       "      <th>PREMIUM_CUSTOMER</th>\n",
       "    </tr>\n",
       "  </thead>\n",
       "  <tbody>\n",
       "    <tr>\n",
       "      <th>0</th>\n",
       "      <td>13138</td>\n",
       "      <td>109.0</td>\n",
       "      <td>17</td>\n",
       "      <td>YOUNG FAMILIES</td>\n",
       "      <td>Mainstream</td>\n",
       "    </tr>\n",
       "    <tr>\n",
       "      <th>1</th>\n",
       "      <td>13177</td>\n",
       "      <td>104.6</td>\n",
       "      <td>15</td>\n",
       "      <td>MIDAGE SINGLES/COUPLES</td>\n",
       "      <td>Premium</td>\n",
       "    </tr>\n",
       "    <tr>\n",
       "      <th>2</th>\n",
       "      <td>23192</td>\n",
       "      <td>114.7</td>\n",
       "      <td>15</td>\n",
       "      <td>OLDER FAMILIES</td>\n",
       "      <td>Budget</td>\n",
       "    </tr>\n",
       "    <tr>\n",
       "      <th>3</th>\n",
       "      <td>28020</td>\n",
       "      <td>115.6</td>\n",
       "      <td>15</td>\n",
       "      <td>OLDER FAMILIES</td>\n",
       "      <td>Premium</td>\n",
       "    </tr>\n",
       "    <tr>\n",
       "      <th>4</th>\n",
       "      <td>30162</td>\n",
       "      <td>99.6</td>\n",
       "      <td>15</td>\n",
       "      <td>YOUNG FAMILIES</td>\n",
       "      <td>Premium</td>\n",
       "    </tr>\n",
       "    <tr>\n",
       "      <th>5</th>\n",
       "      <td>32060</td>\n",
       "      <td>114.0</td>\n",
       "      <td>15</td>\n",
       "      <td>YOUNG FAMILIES</td>\n",
       "      <td>Budget</td>\n",
       "    </tr>\n",
       "    <tr>\n",
       "      <th>6</th>\n",
       "      <td>32210</td>\n",
       "      <td>99.0</td>\n",
       "      <td>15</td>\n",
       "      <td>YOUNG SINGLES/COUPLES</td>\n",
       "      <td>Mainstream</td>\n",
       "    </tr>\n",
       "    <tr>\n",
       "      <th>7</th>\n",
       "      <td>43109</td>\n",
       "      <td>92.4</td>\n",
       "      <td>15</td>\n",
       "      <td>OLDER FAMILIES</td>\n",
       "      <td>Premium</td>\n",
       "    </tr>\n",
       "    <tr>\n",
       "      <th>8</th>\n",
       "      <td>63197</td>\n",
       "      <td>132.8</td>\n",
       "      <td>15</td>\n",
       "      <td>OLDER FAMILIES</td>\n",
       "      <td>Budget</td>\n",
       "    </tr>\n",
       "    <tr>\n",
       "      <th>9</th>\n",
       "      <td>94185</td>\n",
       "      <td>122.8</td>\n",
       "      <td>16</td>\n",
       "      <td>YOUNG FAMILIES</td>\n",
       "      <td>Premium</td>\n",
       "    </tr>\n",
       "    <tr>\n",
       "      <th>10</th>\n",
       "      <td>104117</td>\n",
       "      <td>109.6</td>\n",
       "      <td>16</td>\n",
       "      <td>OLDER FAMILIES</td>\n",
       "      <td>Budget</td>\n",
       "    </tr>\n",
       "    <tr>\n",
       "      <th>11</th>\n",
       "      <td>105026</td>\n",
       "      <td>114.2</td>\n",
       "      <td>16</td>\n",
       "      <td>YOUNG FAMILIES</td>\n",
       "      <td>Budget</td>\n",
       "    </tr>\n",
       "    <tr>\n",
       "      <th>12</th>\n",
       "      <td>107167</td>\n",
       "      <td>94.4</td>\n",
       "      <td>15</td>\n",
       "      <td>OLDER FAMILIES</td>\n",
       "      <td>Budget</td>\n",
       "    </tr>\n",
       "    <tr>\n",
       "      <th>13</th>\n",
       "      <td>109036</td>\n",
       "      <td>113.0</td>\n",
       "      <td>15</td>\n",
       "      <td>OLDER SINGLES/COUPLES</td>\n",
       "      <td>Premium</td>\n",
       "    </tr>\n",
       "    <tr>\n",
       "      <th>14</th>\n",
       "      <td>113080</td>\n",
       "      <td>107.8</td>\n",
       "      <td>15</td>\n",
       "      <td>OLDER FAMILIES</td>\n",
       "      <td>Mainstream</td>\n",
       "    </tr>\n",
       "    <tr>\n",
       "      <th>15</th>\n",
       "      <td>114163</td>\n",
       "      <td>117.4</td>\n",
       "      <td>15</td>\n",
       "      <td>OLDER FAMILIES</td>\n",
       "      <td>Budget</td>\n",
       "    </tr>\n",
       "    <tr>\n",
       "      <th>16</th>\n",
       "      <td>116181</td>\n",
       "      <td>117.6</td>\n",
       "      <td>16</td>\n",
       "      <td>YOUNG FAMILIES</td>\n",
       "      <td>Premium</td>\n",
       "    </tr>\n",
       "    <tr>\n",
       "      <th>17</th>\n",
       "      <td>128178</td>\n",
       "      <td>99.7</td>\n",
       "      <td>16</td>\n",
       "      <td>OLDER FAMILIES</td>\n",
       "      <td>Mainstream</td>\n",
       "    </tr>\n",
       "    <tr>\n",
       "      <th>18</th>\n",
       "      <td>128203</td>\n",
       "      <td>99.6</td>\n",
       "      <td>15</td>\n",
       "      <td>RETIREES</td>\n",
       "      <td>Mainstream</td>\n",
       "    </tr>\n",
       "    <tr>\n",
       "      <th>19</th>\n",
       "      <td>129050</td>\n",
       "      <td>93.5</td>\n",
       "      <td>15</td>\n",
       "      <td>YOUNG FAMILIES</td>\n",
       "      <td>Premium</td>\n",
       "    </tr>\n",
       "    <tr>\n",
       "      <th>20</th>\n",
       "      <td>133106</td>\n",
       "      <td>97.3</td>\n",
       "      <td>15</td>\n",
       "      <td>OLDER FAMILIES</td>\n",
       "      <td>Mainstream</td>\n",
       "    </tr>\n",
       "    <tr>\n",
       "      <th>21</th>\n",
       "      <td>138016</td>\n",
       "      <td>103.6</td>\n",
       "      <td>15</td>\n",
       "      <td>OLDER FAMILIES</td>\n",
       "      <td>Mainstream</td>\n",
       "    </tr>\n",
       "    <tr>\n",
       "      <th>22</th>\n",
       "      <td>152054</td>\n",
       "      <td>99.8</td>\n",
       "      <td>15</td>\n",
       "      <td>OLDER FAMILIES</td>\n",
       "      <td>Mainstream</td>\n",
       "    </tr>\n",
       "    <tr>\n",
       "      <th>23</th>\n",
       "      <td>156054</td>\n",
       "      <td>115.4</td>\n",
       "      <td>15</td>\n",
       "      <td>MIDAGE SINGLES/COUPLES</td>\n",
       "      <td>Premium</td>\n",
       "    </tr>\n",
       "    <tr>\n",
       "      <th>24</th>\n",
       "      <td>156240</td>\n",
       "      <td>86.2</td>\n",
       "      <td>15</td>\n",
       "      <td>YOUNG FAMILIES</td>\n",
       "      <td>Budget</td>\n",
       "    </tr>\n",
       "    <tr>\n",
       "      <th>25</th>\n",
       "      <td>157209</td>\n",
       "      <td>101.9</td>\n",
       "      <td>15</td>\n",
       "      <td>OLDER FAMILIES</td>\n",
       "      <td>Premium</td>\n",
       "    </tr>\n",
       "    <tr>\n",
       "      <th>26</th>\n",
       "      <td>162039</td>\n",
       "      <td>126.8</td>\n",
       "      <td>18</td>\n",
       "      <td>OLDER FAMILIES</td>\n",
       "      <td>Mainstream</td>\n",
       "    </tr>\n",
       "    <tr>\n",
       "      <th>27</th>\n",
       "      <td>164034</td>\n",
       "      <td>115.6</td>\n",
       "      <td>15</td>\n",
       "      <td>RETIREES</td>\n",
       "      <td>Budget</td>\n",
       "    </tr>\n",
       "    <tr>\n",
       "      <th>28</th>\n",
       "      <td>172032</td>\n",
       "      <td>120.1</td>\n",
       "      <td>16</td>\n",
       "      <td>YOUNG SINGLES/COUPLES</td>\n",
       "      <td>Mainstream</td>\n",
       "    </tr>\n",
       "    <tr>\n",
       "      <th>29</th>\n",
       "      <td>179228</td>\n",
       "      <td>120.8</td>\n",
       "      <td>16</td>\n",
       "      <td>YOUNG FAMILIES</td>\n",
       "      <td>Budget</td>\n",
       "    </tr>\n",
       "    <tr>\n",
       "      <th>30</th>\n",
       "      <td>180157</td>\n",
       "      <td>109.2</td>\n",
       "      <td>15</td>\n",
       "      <td>OLDER FAMILIES</td>\n",
       "      <td>Budget</td>\n",
       "    </tr>\n",
       "    <tr>\n",
       "      <th>31</th>\n",
       "      <td>184133</td>\n",
       "      <td>99.2</td>\n",
       "      <td>15</td>\n",
       "      <td>OLDER FAMILIES</td>\n",
       "      <td>Mainstream</td>\n",
       "    </tr>\n",
       "    <tr>\n",
       "      <th>32</th>\n",
       "      <td>207003</td>\n",
       "      <td>107.2</td>\n",
       "      <td>15</td>\n",
       "      <td>OLDER SINGLES/COUPLES</td>\n",
       "      <td>Budget</td>\n",
       "    </tr>\n",
       "    <tr>\n",
       "      <th>33</th>\n",
       "      <td>209122</td>\n",
       "      <td>111.0</td>\n",
       "      <td>15</td>\n",
       "      <td>OLDER SINGLES/COUPLES</td>\n",
       "      <td>Budget</td>\n",
       "    </tr>\n",
       "    <tr>\n",
       "      <th>34</th>\n",
       "      <td>213140</td>\n",
       "      <td>111.2</td>\n",
       "      <td>16</td>\n",
       "      <td>OLDER SINGLES/COUPLES</td>\n",
       "      <td>Premium</td>\n",
       "    </tr>\n",
       "    <tr>\n",
       "      <th>35</th>\n",
       "      <td>222242</td>\n",
       "      <td>109.2</td>\n",
       "      <td>16</td>\n",
       "      <td>OLDER FAMILIES</td>\n",
       "      <td>Mainstream</td>\n",
       "    </tr>\n",
       "    <tr>\n",
       "      <th>36</th>\n",
       "      <td>230078</td>\n",
       "      <td>138.6</td>\n",
       "      <td>17</td>\n",
       "      <td>OLDER FAMILIES</td>\n",
       "      <td>Budget</td>\n",
       "    </tr>\n",
       "    <tr>\n",
       "      <th>37</th>\n",
       "      <td>257202</td>\n",
       "      <td>114.3</td>\n",
       "      <td>15</td>\n",
       "      <td>YOUNG FAMILIES</td>\n",
       "      <td>Budget</td>\n",
       "    </tr>\n",
       "    <tr>\n",
       "      <th>38</th>\n",
       "      <td>270001</td>\n",
       "      <td>101.6</td>\n",
       "      <td>15</td>\n",
       "      <td>MIDAGE SINGLES/COUPLES</td>\n",
       "      <td>Mainstream</td>\n",
       "    </tr>\n",
       "  </tbody>\n",
       "</table>\n",
       "</div>"
      ],
      "text/plain": [
       "    LYLTY_CARD_NBR  total_sales  transaction_count               LIFESTAGE  \\\n",
       "0            13138        109.0                 17          YOUNG FAMILIES   \n",
       "1            13177        104.6                 15  MIDAGE SINGLES/COUPLES   \n",
       "2            23192        114.7                 15          OLDER FAMILIES   \n",
       "3            28020        115.6                 15          OLDER FAMILIES   \n",
       "4            30162         99.6                 15          YOUNG FAMILIES   \n",
       "5            32060        114.0                 15          YOUNG FAMILIES   \n",
       "6            32210         99.0                 15   YOUNG SINGLES/COUPLES   \n",
       "7            43109         92.4                 15          OLDER FAMILIES   \n",
       "8            63197        132.8                 15          OLDER FAMILIES   \n",
       "9            94185        122.8                 16          YOUNG FAMILIES   \n",
       "10          104117        109.6                 16          OLDER FAMILIES   \n",
       "11          105026        114.2                 16          YOUNG FAMILIES   \n",
       "12          107167         94.4                 15          OLDER FAMILIES   \n",
       "13          109036        113.0                 15   OLDER SINGLES/COUPLES   \n",
       "14          113080        107.8                 15          OLDER FAMILIES   \n",
       "15          114163        117.4                 15          OLDER FAMILIES   \n",
       "16          116181        117.6                 16          YOUNG FAMILIES   \n",
       "17          128178         99.7                 16          OLDER FAMILIES   \n",
       "18          128203         99.6                 15                RETIREES   \n",
       "19          129050         93.5                 15          YOUNG FAMILIES   \n",
       "20          133106         97.3                 15          OLDER FAMILIES   \n",
       "21          138016        103.6                 15          OLDER FAMILIES   \n",
       "22          152054         99.8                 15          OLDER FAMILIES   \n",
       "23          156054        115.4                 15  MIDAGE SINGLES/COUPLES   \n",
       "24          156240         86.2                 15          YOUNG FAMILIES   \n",
       "25          157209        101.9                 15          OLDER FAMILIES   \n",
       "26          162039        126.8                 18          OLDER FAMILIES   \n",
       "27          164034        115.6                 15                RETIREES   \n",
       "28          172032        120.1                 16   YOUNG SINGLES/COUPLES   \n",
       "29          179228        120.8                 16          YOUNG FAMILIES   \n",
       "30          180157        109.2                 15          OLDER FAMILIES   \n",
       "31          184133         99.2                 15          OLDER FAMILIES   \n",
       "32          207003        107.2                 15   OLDER SINGLES/COUPLES   \n",
       "33          209122        111.0                 15   OLDER SINGLES/COUPLES   \n",
       "34          213140        111.2                 16   OLDER SINGLES/COUPLES   \n",
       "35          222242        109.2                 16          OLDER FAMILIES   \n",
       "36          230078        138.6                 17          OLDER FAMILIES   \n",
       "37          257202        114.3                 15          YOUNG FAMILIES   \n",
       "38          270001        101.6                 15  MIDAGE SINGLES/COUPLES   \n",
       "\n",
       "   PREMIUM_CUSTOMER  \n",
       "0        Mainstream  \n",
       "1           Premium  \n",
       "2            Budget  \n",
       "3           Premium  \n",
       "4           Premium  \n",
       "5            Budget  \n",
       "6        Mainstream  \n",
       "7           Premium  \n",
       "8            Budget  \n",
       "9           Premium  \n",
       "10           Budget  \n",
       "11           Budget  \n",
       "12           Budget  \n",
       "13          Premium  \n",
       "14       Mainstream  \n",
       "15           Budget  \n",
       "16          Premium  \n",
       "17       Mainstream  \n",
       "18       Mainstream  \n",
       "19          Premium  \n",
       "20       Mainstream  \n",
       "21       Mainstream  \n",
       "22       Mainstream  \n",
       "23          Premium  \n",
       "24           Budget  \n",
       "25          Premium  \n",
       "26       Mainstream  \n",
       "27           Budget  \n",
       "28       Mainstream  \n",
       "29           Budget  \n",
       "30           Budget  \n",
       "31       Mainstream  \n",
       "32           Budget  \n",
       "33           Budget  \n",
       "34          Premium  \n",
       "35       Mainstream  \n",
       "36           Budget  \n",
       "37           Budget  \n",
       "38       Mainstream  "
      ]
     },
     "execution_count": 160,
     "metadata": {},
     "output_type": "execute_result"
    }
   ],
   "source": [
    "# Calculate total sales and number of transactions for each customer\n",
    "df_customer_loyalty = df_combined.groupby('LYLTY_CARD_NBR').agg(\n",
    "    total_sales=('TOT_SALES', 'sum'),        # Sum of TOT_SALES to calculate total sales per customer\n",
    "    transaction_count=('TXN_ID', 'nunique')  # Count of unique transactions (TXN_ID) per customer\n",
    ").reset_index()  # Reset the index to get a clean DataFrame\n",
    "\n",
    "# Define loyal customers (customers with more than 14 transactions as per my findings)\n",
    "loyal_customers = df_customer_loyalty[df_customer_loyalty['transaction_count'] > 14]\n",
    "# Filter the DataFrame to include only customers with more than 14 unique transactions\n",
    "\n",
    "# Join the loyalty data back with customer characteristics (LIFESTAGE, PREMIUM_CUSTOMER)\n",
    "loyal_customers_info = pd.merge(loyal_customers, df_customers[['LYLTY_CARD_NBR', 'LIFESTAGE', 'PREMIUM_CUSTOMER']], on='LYLTY_CARD_NBR', how='left')\n",
    "# Merge the 'loyal_customers' DataFrame with the 'df_customers' DataFrame on 'LYLTY_CARD_NBR'\n",
    "# This brings in the 'LIFESTAGE' and 'PREMIUM_CUSTOMER' information for each loyal customer\n",
    "\n",
    "# Display loyal customers with their characteristics\n",
    "loyal_customers_info"
   ]
  },
  {
   "cell_type": "markdown",
   "metadata": {},
   "source": [
    "This data allows you to identify your loyal customers based on their purchasing behavior (more than 14 transactions) and understand their characteristics like life stage and whether they are premium customers. This can help in targeting specific marketing campaigns or product recommendations to loyal customers."
   ]
  },
  {
   "cell_type": "code",
   "execution_count": 162,
   "metadata": {},
   "outputs": [
    {
     "data": {
      "text/html": [
       "<div>\n",
       "<style scoped>\n",
       "    .dataframe tbody tr th:only-of-type {\n",
       "        vertical-align: middle;\n",
       "    }\n",
       "\n",
       "    .dataframe tbody tr th {\n",
       "        vertical-align: top;\n",
       "    }\n",
       "\n",
       "    .dataframe thead th {\n",
       "        text-align: right;\n",
       "    }\n",
       "</style>\n",
       "<table border=\"1\" class=\"dataframe\">\n",
       "  <thead>\n",
       "    <tr style=\"text-align: right;\">\n",
       "      <th></th>\n",
       "      <th>LIFESTAGE</th>\n",
       "      <th>PREMIUM_CUSTOMER</th>\n",
       "      <th>total_sales</th>\n",
       "    </tr>\n",
       "  </thead>\n",
       "  <tbody>\n",
       "    <tr>\n",
       "      <th>0</th>\n",
       "      <td>OLDER FAMILIES</td>\n",
       "      <td>Budget</td>\n",
       "      <td>116.671429</td>\n",
       "    </tr>\n",
       "    <tr>\n",
       "      <th>1</th>\n",
       "      <td>RETIREES</td>\n",
       "      <td>Budget</td>\n",
       "      <td>115.600000</td>\n",
       "    </tr>\n",
       "    <tr>\n",
       "      <th>2</th>\n",
       "      <td>OLDER SINGLES/COUPLES</td>\n",
       "      <td>Premium</td>\n",
       "      <td>112.100000</td>\n",
       "    </tr>\n",
       "    <tr>\n",
       "      <th>3</th>\n",
       "      <td>MIDAGE SINGLES/COUPLES</td>\n",
       "      <td>Premium</td>\n",
       "      <td>110.000000</td>\n",
       "    </tr>\n",
       "    <tr>\n",
       "      <th>4</th>\n",
       "      <td>YOUNG FAMILIES</td>\n",
       "      <td>Budget</td>\n",
       "      <td>109.900000</td>\n",
       "    </tr>\n",
       "    <tr>\n",
       "      <th>5</th>\n",
       "      <td>YOUNG SINGLES/COUPLES</td>\n",
       "      <td>Mainstream</td>\n",
       "      <td>109.550000</td>\n",
       "    </tr>\n",
       "    <tr>\n",
       "      <th>6</th>\n",
       "      <td>OLDER SINGLES/COUPLES</td>\n",
       "      <td>Budget</td>\n",
       "      <td>109.100000</td>\n",
       "    </tr>\n",
       "    <tr>\n",
       "      <th>7</th>\n",
       "      <td>YOUNG FAMILIES</td>\n",
       "      <td>Mainstream</td>\n",
       "      <td>109.000000</td>\n",
       "    </tr>\n",
       "    <tr>\n",
       "      <th>8</th>\n",
       "      <td>YOUNG FAMILIES</td>\n",
       "      <td>Premium</td>\n",
       "      <td>108.375000</td>\n",
       "    </tr>\n",
       "    <tr>\n",
       "      <th>9</th>\n",
       "      <td>OLDER FAMILIES</td>\n",
       "      <td>Mainstream</td>\n",
       "      <td>105.425000</td>\n",
       "    </tr>\n",
       "    <tr>\n",
       "      <th>10</th>\n",
       "      <td>OLDER FAMILIES</td>\n",
       "      <td>Premium</td>\n",
       "      <td>103.300000</td>\n",
       "    </tr>\n",
       "    <tr>\n",
       "      <th>11</th>\n",
       "      <td>MIDAGE SINGLES/COUPLES</td>\n",
       "      <td>Mainstream</td>\n",
       "      <td>101.600000</td>\n",
       "    </tr>\n",
       "    <tr>\n",
       "      <th>12</th>\n",
       "      <td>RETIREES</td>\n",
       "      <td>Mainstream</td>\n",
       "      <td>99.600000</td>\n",
       "    </tr>\n",
       "  </tbody>\n",
       "</table>\n",
       "</div>"
      ],
      "text/plain": [
       "                 LIFESTAGE PREMIUM_CUSTOMER  total_sales\n",
       "0           OLDER FAMILIES           Budget   116.671429\n",
       "1                 RETIREES           Budget   115.600000\n",
       "2    OLDER SINGLES/COUPLES          Premium   112.100000\n",
       "3   MIDAGE SINGLES/COUPLES          Premium   110.000000\n",
       "4           YOUNG FAMILIES           Budget   109.900000\n",
       "5    YOUNG SINGLES/COUPLES       Mainstream   109.550000\n",
       "6    OLDER SINGLES/COUPLES           Budget   109.100000\n",
       "7           YOUNG FAMILIES       Mainstream   109.000000\n",
       "8           YOUNG FAMILIES          Premium   108.375000\n",
       "9           OLDER FAMILIES       Mainstream   105.425000\n",
       "10          OLDER FAMILIES          Premium   103.300000\n",
       "11  MIDAGE SINGLES/COUPLES       Mainstream   101.600000\n",
       "12                RETIREES       Mainstream    99.600000"
      ]
     },
     "execution_count": 162,
     "metadata": {},
     "output_type": "execute_result"
    }
   ],
   "source": [
    "# Group by customer characteristics (LIFESTAGE, PREMIUM_CUSTOMER) and calculate the average total sales\n",
    "loyal_customer_segments = loyal_customers_info.groupby(['LIFESTAGE', 'PREMIUM_CUSTOMER'])['total_sales'].mean().reset_index()\n",
    "\n",
    "# Sort the segments by average total sales in descending order\n",
    "loyal_customer_segments = loyal_customer_segments.sort_values(by='total_sales', ascending=False)\n",
    "\n",
    "# Display the most profitable loyal customer segments\n",
    "loyal_customer_segments.reset_index(drop=True)"
   ]
  },
  {
   "cell_type": "markdown",
   "metadata": {},
   "source": [
    "This analysis helps in identifying which customer segments (based on their life stage and premium membership status) are most profitable. For example, if \"Senior\" customers who are \"Premium\" generate the highest average sales, the marketing team may focus on creating more targeted promotions for this segment."
   ]
  },
  {
   "cell_type": "code",
   "execution_count": 163,
   "metadata": {},
   "outputs": [
    {
     "data": {
      "image/png": "[encoded data removed]",
      "text/plain": [
       "<Figure size 1000x600 with 1 Axes>"
      ]
     },
     "metadata": {},
     "output_type": "display_data"
    }
   ],
   "source": [
    "# Create a vertical bar plot\n",
    "plt.figure(figsize=(10, 6))  # Set the size of the plot\n",
    "sns.barplot(x='LIFESTAGE', y='total_sales', hue='PREMIUM_CUSTOMER', data=loyal_customer_segments)\n",
    "\n",
    "# Customize the plot\n",
    "plt.title('Loyal Customer Segments and Their Average Sales')  # Add a title to the plot\n",
    "plt.xlabel('Life Stage')  # Label the x-axis\n",
    "plt.ylabel('Average Total Sales')  # Label the y-axis\n",
    "plt.xticks(rotation=45)  # Rotate x-axis labels for better readability\n",
    "\n",
    "# Display the plot\n",
    "plt.show()"
   ]
  },
  {
   "cell_type": "markdown",
   "metadata": {},
   "source": [
    "Let's hypothesis why some customer groups show more loyalty based on what we found:\n",
    "\n",
    "Premium Customers: These folks spend more because they can buy special stuff. They might stick around because they think they're getting their money's worth.\n",
    "\n",
    "Retired Customers: People who've stopped working might have more time to shop. They might go for things that keep them healthy, comfy, or entertained.\n",
    "\n",
    "Working Professionals: These customers might shop around more if they're watching their wallet or want quick and easy shopping options.\n",
    "\n",
    "To wrap up:\n",
    "This breakdown helps us spot the most profitable items and the customers who keep coming back. When we put together what people buy and who they are, we learn a lot. This can help us make our marketing better and put our products in the right spots.\n"
   ]
  }
 ],
 "metadata": {
  "kernelspec": {
   "display_name": "ignosis",
   "language": "python",
   "name": "python3"
  },
  "language_info": {
   "codemirror_mode": {
    "name": "ipython",
    "version": 3
   },
   "file_extension": ".py",
   "mimetype": "text/x-python",
   "name": "python",
   "nbconvert_exporter": "python",
   "pygments_lexer": "ipython3",
   "version": "3.12.4"
  }
 },
 "nbformat": 4,
 "nbformat_minor": 2
}
